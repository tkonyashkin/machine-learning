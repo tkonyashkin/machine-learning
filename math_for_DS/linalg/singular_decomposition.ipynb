{
 "cells": [
  {
   "cell_type": "code",
   "execution_count": 2,
   "metadata": {},
   "outputs": [],
   "source": [
    "import numpy as np"
   ]
  },
  {
   "cell_type": "code",
   "execution_count": 22,
   "metadata": {},
   "outputs": [],
   "source": [
    "def svd(matrix: np.ndarray):\n",
    "    U, S, Vh = np.linalg.svd(matrix)\n",
    "    \n",
    "    print('Матрица левых сингулярных векторов:')\n",
    "    for i in range(U.shape[1]):\n",
    "        print(U[:, i])\n",
    "\n",
    "    print('\\nСингулярные числа:')\n",
    "    for i in range(S.shape[0]):\n",
    "        print(S[i])\n",
    "\n",
    "    print('\\nМатрица правых сингулярных векторов:')\n",
    "    for i in range(Vh.shape[0]):\n",
    "        print(Vh[i])\n",
    "\n",
    "    print('\\nПроверка:')\n",
    "    print(np.round(np.dot(U, np.dot(np.diag(S), Vh)), 3))\n",
    "\n",
    "\n"
   ]
  },
  {
   "cell_type": "code",
   "execution_count": 10,
   "metadata": {},
   "outputs": [],
   "source": [
    "mat_A = np.array([[1, 3, 8], [4, 2, 0], [7, 1, 9]])"
   ]
  },
  {
   "cell_type": "code",
   "execution_count": 23,
   "metadata": {},
   "outputs": [
    {
     "name": "stdout",
     "output_type": "stream",
     "text": [
      "Матрица левых сингулярных векторов:\n",
      "[-0.56375011 -0.1711562  -0.80801693]\n",
      "[ 0.66253408 -0.67786769 -0.31865967]\n",
      "[-0.49318799 -0.71498318  0.4955448 ]\n",
      "\n",
      "Сингулярные числа:\n",
      "13.9486824255103\n",
      "4.932437625344551\n",
      "2.4708941022119117\n",
      "\n",
      "Матрица правых сингулярных векторов:\n",
      "[-0.49499252 -0.20371671 -0.84467858]\n",
      "[-0.86763476  0.06349948  0.49313055]\n",
      "[ 0.04682228 -0.97696843  0.20818346]\n",
      "\n",
      "Проверка:\n",
      "[[1. 3. 8.]\n",
      " [4. 2. 0.]\n",
      " [7. 1. 9.]]\n"
     ]
    }
   ],
   "source": [
    "svd(mat_A)"
   ]
  }
 ],
 "metadata": {
  "kernelspec": {
   "display_name": "Python 3",
   "language": "python",
   "name": "python3"
  },
  "language_info": {
   "codemirror_mode": {
    "name": "ipython",
    "version": 3
   },
   "file_extension": ".py",
   "mimetype": "text/x-python",
   "name": "python",
   "nbconvert_exporter": "python",
   "pygments_lexer": "ipython3",
   "version": "3.9.10"
  }
 },
 "nbformat": 4,
 "nbformat_minor": 2
}
