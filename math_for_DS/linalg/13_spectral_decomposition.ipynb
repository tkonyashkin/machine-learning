{
 "cells": [
  {
   "cell_type": "markdown",
   "id": "add2c857",
   "metadata": {},
   "source": [
    "**13.\tНайдите спектральное разложение матрицы A с помощью python. Используйте функцию numpy.linalg.eigh, которая поможет рассчитать собственные числа и векторы матрицы.**\n",
    "\n",
    "$A = V ∙ Λ ∙ V^{-1} $"
   ]
  },
  {
   "cell_type": "code",
   "execution_count": 1,
   "id": "25019773",
   "metadata": {},
   "outputs": [],
   "source": [
    "import numpy as np\n",
    "\n",
    "def spectral_decomposition(matrix):\n",
    "\n",
    "    #Найдем собственные значения и векторы матрицы\n",
    "    eigenvalues, eigenvectors = np.linalg.eigh(matrix)\n",
    "    \n",
    "    print(\"Собственные значения:\\n\")\n",
    "    for i, eigenvalue in enumerate(eigenvalues):\n",
    "        print(f\"λ{i+1} = {eigenvalue}\\n\")\n",
    "\n",
    "    print(\"Собственные векторы:\\n\")\n",
    "    for i, eigenvector in enumerate(eigenvectors.T):\n",
    "        print(f\"V{i+1} = {eigenvector}\\n\")\n",
    "        \n",
    "    #Собственные значения составляют диагональ матрицы лямбда\n",
    "    lambda_matrix = np.diag(eigenvalues)\n",
    "    \n",
    "    #Собственные векторы составляют матрицу V и обратную V\n",
    "    V_matrix = eigenvectors\n",
    "    inv_V_matrix = np.linalg.inv(V_matrix)\n",
    "    \n",
    "    #Проверим, что произведение компонент разложения равно исходной матрице\n",
    "    temp = np.dot(V_matrix, lambda_matrix)\n",
    "    result = np.dot(temp, inv_V_matrix)\n",
    "    \n",
    "    print('Произведение компонент разложения: \\n')\n",
    "    print(result)"
   ]
  },
  {
   "cell_type": "code",
   "execution_count": 2,
   "id": "41077e1d",
   "metadata": {},
   "outputs": [
    {
     "name": "stdout",
     "output_type": "stream",
     "text": [
      "Собственные значения:\n",
      "\n",
      "λ1 = -3.020699255079208\n",
      "\n",
      "λ2 = 1.6652777053317827\n",
      "\n",
      "λ3 = 7.355421549747427\n",
      "\n",
      "Собственные векторы:\n",
      "\n",
      "V1 = [ 0.77532334 -0.2934401  -0.55925542]\n",
      "\n",
      "V2 = [ 0.1440438  -0.78000906  0.60896408]\n",
      "\n",
      "V3 = [-0.61491877 -0.55270134 -0.562491  ]\n",
      "\n",
      "Произведение компонент разложения: \n",
      "\n",
      "[[1. 3. 4.]\n",
      " [3. 3. 1.]\n",
      " [4. 1. 2.]]\n"
     ]
    }
   ],
   "source": [
    "A = np.array([[1., 3., 4.],\n",
    "              [3., 3., 1.],\n",
    "              [4., 1., 2.]])\n",
    "\n",
    "spectral_decomposition(A)"
   ]
  }
 ],
 "metadata": {
  "kernelspec": {
   "display_name": "Python 3 (ipykernel)",
   "language": "python",
   "name": "python3"
  },
  "language_info": {
   "codemirror_mode": {
    "name": "ipython",
    "version": 3
   },
   "file_extension": ".py",
   "mimetype": "text/x-python",
   "name": "python",
   "nbconvert_exporter": "python",
   "pygments_lexer": "ipython3",
   "version": "3.9.12"
  }
 },
 "nbformat": 4,
 "nbformat_minor": 5
}
