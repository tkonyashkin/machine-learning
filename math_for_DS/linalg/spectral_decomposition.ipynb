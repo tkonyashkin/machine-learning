{
 "cells": [
  {
   "cell_type": "code",
   "execution_count": 5,
   "metadata": {},
   "outputs": [],
   "source": [
    "import numpy as np"
   ]
  },
  {
   "cell_type": "code",
   "execution_count": 24,
   "metadata": {},
   "outputs": [],
   "source": [
    "def spectral_decomposition(matrix):\n",
    "    eigenvalues, eigenvectors = np.linalg.eig(matrix)\n",
    "    \n",
    "    print('Собственные значения матрицы:')\n",
    "    for i in range(len(eigenvalues)):\n",
    "        print(f'λ{i+1} = {eigenvalues[i]}')\n",
    "\n",
    "    print('\\nСобственные векторы матрицы:')\n",
    "    for i in range(len(eigenvectors)):\n",
    "        print(f'v{i+1} = {eigenvectors[i]}')\n",
    "        \n",
    "\n",
    "\n",
    "    print('\\nИсходная матрица через собственные значения и векторы:')\n",
    "    print(np.dot(np.dot(eigenvectors, np.diag(eigenvalues)), np.linalg.inv(eigenvectors)))\n",
    "\n",
    "    \n",
    "    "
   ]
  },
  {
   "cell_type": "code",
   "execution_count": 25,
   "metadata": {},
   "outputs": [],
   "source": [
    "mat_A = np.array([[1, 3, 4], [3, 3, 1], [4, 1, 2]])"
   ]
  },
  {
   "cell_type": "code",
   "execution_count": 26,
   "metadata": {},
   "outputs": [
    {
     "name": "stdout",
     "output_type": "stream",
     "text": [
      "Собственные значения матрицы:\n",
      "λ1 = 7.355421549747428\n",
      "λ2 = -3.020699255079209\n",
      "λ3 = 1.665277705331783\n",
      "\n",
      "Собственные векторы матрицы:\n",
      "v1 = [-0.61491877 -0.77532334  0.1440438 ]\n",
      "v2 = [-0.55270134  0.2934401  -0.78000906]\n",
      "v3 = [-0.562491    0.55925542  0.60896408]\n",
      "\n",
      "Исходная матрица через собственные значения и векторы:\n",
      "[[1. 3. 4.]\n",
      " [3. 3. 1.]\n",
      " [4. 1. 2.]]\n"
     ]
    }
   ],
   "source": [
    "spectral_decomposition(mat_A)"
   ]
  }
 ],
 "metadata": {
  "kernelspec": {
   "display_name": "Python 3",
   "language": "python",
   "name": "python3"
  },
  "language_info": {
   "codemirror_mode": {
    "name": "ipython",
    "version": 3
   },
   "file_extension": ".py",
   "mimetype": "text/x-python",
   "name": "python",
   "nbconvert_exporter": "python",
   "pygments_lexer": "ipython3",
   "version": "3.9.10"
  }
 },
 "nbformat": 4,
 "nbformat_minor": 2
}
