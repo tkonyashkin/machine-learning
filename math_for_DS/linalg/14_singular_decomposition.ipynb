{
 "cells": [
  {
   "cell_type": "markdown",
   "id": "9a609dbf",
   "metadata": {},
   "source": [
    "**14.\tНайдите сингулярное разложение матрицы B c помощью python.**\n",
    "\n",
    "$B = U ∙ Σ ∙ V^T$"
   ]
  },
  {
   "cell_type": "code",
   "execution_count": 1,
   "id": "911b977e",
   "metadata": {},
   "outputs": [],
   "source": [
    "import numpy as np\n",
    "\n",
    "def singular_decomposition(matrix):\n",
    "    \n",
    "    # Найдем произведение исходной и сопряженно-транспонированной матрицы \n",
    "    AAT = np.dot(matrix, matrix.T)\n",
    "\n",
    "    # Найдем собственные векторы и значения полученной матрицы\n",
    "    eigenvalues, eigenvectors = np.linalg.eig(AAT)\n",
    "\n",
    "    # Упорядочим собственные значения и векторы по убыванию\n",
    "    sorted_indices = np.argsort(eigenvalues)[::-1]\n",
    "    eigenvalues = eigenvalues[sorted_indices]\n",
    "    eigenvectors = eigenvectors[:, sorted_indices]\n",
    "    \n",
    "    #Собственные векторы матрицы AAT будут являться левыми сингулярными векторами\n",
    "    U = eigenvectors\n",
    "\n",
    "    # Найдем произведение сопряженно-транспонированной и исходной матрицы \n",
    "    ATA = np.dot(matrix.T, matrix)\n",
    "\n",
    "    eigenvalues, eigenvectors = np.linalg.eig(ATA)\n",
    "\n",
    "    sorted_indices = np.argsort(eigenvalues)[::-1]\n",
    "    eigenvalues = eigenvalues[sorted_indices]\n",
    "    eigenvectors = eigenvectors[:, sorted_indices]\n",
    "\n",
    "    #Собственные векторы матрицы ATА будут являться правыми сингулярными векторами\n",
    "    V = eigenvectors.T\n",
    "    \n",
    "    #Корни собственных значений матрицы ATА будут являться сингулярными значениями матрицы\n",
    "    S = np.sqrt(eigenvalues)\n",
    "\n",
    "    # Вывод результатов\n",
    "    print(\"Матрица U:\")\n",
    "    print(U)\n",
    "    print(\"Диагональ матрицы Lambda:\")\n",
    "    print(S)\n",
    "    print(\"Матрица V:\")\n",
    "    print(V)"
   ]
  },
  {
   "cell_type": "code",
   "execution_count": 2,
   "id": "e5fb0e21",
   "metadata": {},
   "outputs": [
    {
     "name": "stdout",
     "output_type": "stream",
     "text": [
      "Матрица U:\n",
      "[[-0.56375011 -0.66253408 -0.49318799]\n",
      " [-0.1711562   0.67786769 -0.71498318]\n",
      " [-0.80801693  0.31865967  0.4955448 ]]\n",
      "Диагональ матрицы Lambda:\n",
      "[13.94868243  4.93243763  2.4708941 ]\n",
      "Матрица V:\n",
      "[[ 0.49499252  0.20371671  0.84467858]\n",
      " [ 0.86763476 -0.06349948 -0.49313055]\n",
      " [ 0.04682228 -0.97696843  0.20818346]]\n"
     ]
    }
   ],
   "source": [
    "B = np.array([[1., 3., 8.],\n",
    "             [4., 2., 0.],\n",
    "             [7., 1., 9.]])\n",
    "\n",
    "singular_decomposition(B)"
   ]
  },
  {
   "cell_type": "code",
   "execution_count": 3,
   "id": "ceaa5d73",
   "metadata": {},
   "outputs": [
    {
     "data": {
      "text/plain": [
       "(array([[-0.56375011,  0.66253408, -0.49318799],\n",
       "        [-0.1711562 , -0.67786769, -0.71498318],\n",
       "        [-0.80801693, -0.31865967,  0.4955448 ]]),\n",
       " array([13.94868243,  4.93243763,  2.4708941 ]),\n",
       " array([[-0.49499252, -0.20371671, -0.84467858],\n",
       "        [-0.86763476,  0.06349948,  0.49313055],\n",
       "        [ 0.04682228, -0.97696843,  0.20818346]]))"
      ]
     },
     "execution_count": 3,
     "metadata": {},
     "output_type": "execute_result"
    }
   ],
   "source": [
    "#Сравним результат с готовой версией сингулярного разложения из Numpy\n",
    "np.linalg.svd(B)"
   ]
  }
 ],
 "metadata": {
  "kernelspec": {
   "display_name": "Python 3 (ipykernel)",
   "language": "python",
   "name": "python3"
  },
  "language_info": {
   "codemirror_mode": {
    "name": "ipython",
    "version": 3
   },
   "file_extension": ".py",
   "mimetype": "text/x-python",
   "name": "python",
   "nbconvert_exporter": "python",
   "pygments_lexer": "ipython3",
   "version": "3.9.10"
  }
 },
 "nbformat": 4,
 "nbformat_minor": 5
}
