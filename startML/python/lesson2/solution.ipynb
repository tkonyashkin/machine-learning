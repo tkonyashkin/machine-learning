{
 "cells": [
  {
   "cell_type": "code",
   "execution_count": 2,
   "metadata": {},
   "outputs": [],
   "source": [
    "def circle_square(radius: float) -> float:\n",
    "    pi = 3.14\n",
    "    square = radius**2 * pi\n",
    "    return square"
   ]
  },
  {
   "cell_type": "code",
   "execution_count": 3,
   "metadata": {},
   "outputs": [
    {
     "name": "stdout",
     "output_type": "stream",
     "text": [
      "[(1, 2), (2, 3), (3, 4), (4, 5)]\n"
     ]
    }
   ],
   "source": [
    "def zip_(vec1, vec2):\n",
    "    result = []\n",
    "    for i in range(min(len(vec1), len(vec2))):\n",
    "        result.append((vec1[i], vec2[i]))\n",
    "\n",
    "    return result\n",
    "\n",
    "\n",
    "vec1 = [1, 2, 3, 4]\n",
    "vec2 = [2, 3, 4, 5]\n",
    "\n",
    "print(zip_(vec1, vec2))\n",
    "                   "
   ]
  },
  {
   "cell_type": "code",
   "execution_count": 4,
   "metadata": {},
   "outputs": [],
   "source": [
    "def final_balance(init_sum, interest_rate, years, round_num = 2):\n",
    "    final_sum = round(init_sum * (1 + interest_rate/100)**years, round_num)\n",
    "    return final_sum"
   ]
  },
  {
   "cell_type": "code",
   "execution_count": 5,
   "metadata": {},
   "outputs": [],
   "source": [
    "# много другого кода, который тоже печатает\n",
    "# ...\n",
    "# Код коллеги\n",
    "\n",
    "def print_array(object):\n",
    "    print('###')\n",
    "    print(object)\n",
    "    print('###')\n",
    "\n",
    "def math_task(data):\n",
    "    answer = []\n",
    "    # возводим в третью степень\n",
    "    for elem in data:\n",
    "        answer += [elem ** 3]\n",
    "    print_array(answer)\n",
    "    # берем остаток от деления на 7\n",
    "    for i in range(len(answer)):\n",
    "        answer[i] = answer[i] % 7\n",
    "    print_array(answer)\n",
    "    # прибавляем к остатку изначальный массив\n",
    "    for i in range(len(answer)):\n",
    "        answer[i] = answer[i] + data[i]\n",
    "    print_array(answer)\n",
    "    # возвращаем результат\n",
    "    return answer"
   ]
  },
  {
   "cell_type": "code",
   "execution_count": 6,
   "metadata": {},
   "outputs": [],
   "source": [
    "from typing import List\n",
    "def sum_as_ints(strings: List[str]) -> int:\n",
    "    sum_ = 0\n",
    "    for string in strings:\n",
    "        try:\n",
    "            sum_ += int(string)\n",
    "        except:\n",
    "            continue\n",
    "\n",
    "    return sum_"
   ]
  },
  {
   "cell_type": "code",
   "execution_count": 8,
   "metadata": {},
   "outputs": [
    {
     "name": "stdout",
     "output_type": "stream",
     "text": [
      "Все хорошо\n",
      "Все хорошо\n"
     ]
    }
   ],
   "source": [
    "from typing import List\n",
    "\n",
    "def reversed_(array: List[int]) -> List[int]:\n",
    "    return array[::-1]\n",
    "\n",
    "if reversed_(reversed_([1, 2, 3])) == [1, 2, 3]:\n",
    "    print(\"Все хорошо\")\n",
    "else:\n",
    "    raise RuntimeError(\"Ошибка, после обращения дважды не получается исходный массив!\")\n",
    "\n",
    "arr = [1, 2, 3]\n",
    "if reversed_(reversed_(arr)) == arr:\n",
    "    print(\"Все хорошо\")\n",
    "else:\n",
    "    raise RuntimeError(\"Ошибка, после обращения дважды не получается исходный массив!\")"
   ]
  },
  {
   "cell_type": "code",
   "execution_count": 16,
   "metadata": {},
   "outputs": [],
   "source": [
    "def find_substr( substring: str, string: str) -> int:\n",
    "    left_idx = string.find(substring)\n",
    "    right_idx = left_idx + len(substring)\n",
    "    return (left_idx, right_idx)"
   ]
  },
  {
   "cell_type": "code",
   "execution_count": 35,
   "metadata": {},
   "outputs": [
    {
     "data": {
      "text/plain": [
       "'<K/C>'"
      ]
     },
     "execution_count": 35,
     "metadata": {},
     "output_type": "execute_result"
    }
   ],
   "source": [
    "from typing import List\n",
    "def fifth_element(array: List[int]) -> int:\n",
    "    return ''.join(array[-5::-5])\n",
    "\n",
    "fifth_element(['e',6,8,'A','>','^','S','$','R','C',6,'+','#',9,'/',1,'T','!','%','K',7,'-','O','*','<',2,'h',4,'g'])"
   ]
  },
  {
   "cell_type": "code",
   "execution_count": 72,
   "metadata": {},
   "outputs": [
    {
     "name": "stdout",
     "output_type": "stream",
     "text": [
      "junior reads a lot of books\n"
     ]
    }
   ],
   "source": [
    "def process_string(string: str) -> str:\n",
    "    result = (string[1:].lower()).replace('intern', 'junior')\n",
    "    return result\n",
    "\n",
    "print(process_string('IIntern reads a lot of books'))"
   ]
  },
  {
   "cell_type": "code",
   "execution_count": null,
   "metadata": {},
   "outputs": [],
   "source": [
    "def check_string(string: str) -> bool:\n",
    "    pattern = string.strip().capitalize()\n",
    "    if not pattern.endswith('.'):\n",
    "        pattern += '.'\n",
    "\n",
    "    return string == pattern\n",
    "\n"
   ]
  }
 ],
 "metadata": {
  "kernelspec": {
   "display_name": "Python 3",
   "language": "python",
   "name": "python3"
  },
  "language_info": {
   "codemirror_mode": {
    "name": "ipython",
    "version": 3
   },
   "file_extension": ".py",
   "mimetype": "text/x-python",
   "name": "python",
   "nbconvert_exporter": "python",
   "pygments_lexer": "ipython3",
   "version": "3.9.10"
  }
 },
 "nbformat": 4,
 "nbformat_minor": 2
}
