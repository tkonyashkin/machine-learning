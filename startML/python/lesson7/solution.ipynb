{
 "cells": [
  {
   "cell_type": "code",
   "execution_count": 7,
   "metadata": {},
   "outputs": [],
   "source": [
    "class Triangle:\n",
    "    a: int\n",
    "    b: int\n",
    "    c: int\n",
    "    n_dots = 3\n",
    "\n",
    "\n",
    "    def __init__(self, a_, b_, c_):\n",
    "        self.a = a_\n",
    "        self.b = b_\n",
    "        self.c = c_\n",
    "\n",
    "tr_1 = Triangle(3, 4, 5)\n",
    "tr_2 = Triangle(1, 100, 200)"
   ]
  },
  {
   "cell_type": "code",
   "execution_count": 12,
   "metadata": {},
   "outputs": [],
   "source": [
    "class Triangle:\n",
    "    a: int\n",
    "    b: int\n",
    "    c: int\n",
    "    n_dots = 3\n",
    "\n",
    "    def __init__(self, a_, b_, c_):\n",
    "        if a_ + b_ <= c_ or a_ + c_ <= b_ or b_ + c_ <= a_:\n",
    "            raise ValueError('triangle inequality does not hold')\n",
    "        \n",
    "        self.a = a_\n",
    "        self.b = b_\n",
    "        self.c = c_\n",
    "\n",
    "    def area(self):\n",
    "        p = 0.5 * (self.a + self.b + self.c)\n",
    "        area = (p * (p - self.a) * (p - self.b) * (p - self.c)) ** 0.5\n",
    "        return area  \n",
    "\n",
    "tr_1 = Triangle(3, 4, 5)\n",
    "tr_2 = Triangle(10, 12, 15)\n",
    "square_1 = tr_1.area()\n",
    "square_2 = tr_2.area()"
   ]
  },
  {
   "cell_type": "code",
   "execution_count": null,
   "metadata": {},
   "outputs": [],
   "source": [
    "class Rectangle(Triangle):\n",
    "    n_dots = 4\n",
    "\n",
    "    def __init__(self, a_, b_):\n",
    "        self.a = a_\n",
    "        self.b = b_\n",
    "        \n",
    "    def area(self):\n",
    "        return self.a * self.b"
   ]
  },
  {
   "cell_type": "code",
   "execution_count": null,
   "metadata": {},
   "outputs": [],
   "source": [
    "class BaseFigure:\n",
    "    n_dots = None\n",
    "\n",
    "    def __init__(self):\n",
    "        self.validate()\n",
    "\n",
    "    def validate(self):\n",
    "        raise NotImplementedError()\n",
    "\n",
    "    def area(self):\n",
    "        raise NotImplementedError()\n"
   ]
  },
  {
   "cell_type": "code",
   "execution_count": null,
   "metadata": {},
   "outputs": [],
   "source": [
    "class Triangle(BaseFigure):\n",
    "    n_dots = 3\n",
    "\n",
    "    def __init__(self, a_, b_, c_):\n",
    "        self.a = a_\n",
    "        self.b = b_\n",
    "        self.c = c_\n",
    "        self.validate()\n",
    "        super().__init__()\n",
    "\n",
    "    def validate(self):\n",
    "        if self.a + self.b <= self.c or self.a + self.c <= self.b or self.b + self.c <= self.a:\n",
    "            raise ValueError('triangle inequality does not hold')\n",
    "        return self.a, self.b, self.c\n",
    "\n",
    "    def area(self):\n",
    "        p = 0.5 * (self.a + self.b + self.c)\n",
    "        area = (p * (p - self.a) * (p - self.b) * (p - self.c)) ** 0.5\n",
    "        return area\n",
    "    \n",
    "class Rectangle(BaseFigure):\n",
    "    n_dots = 4\n",
    "\n",
    "    def __init__(self, a_, b_):\n",
    "        self.a = a_\n",
    "        self.b = b_\n",
    "        self.validate()\n",
    "        super().__init__()\n",
    "\n",
    "    def validate(self):\n",
    "        return self.a, self.b\n",
    "\n",
    "    def area(self):\n",
    "        return self.a * self.b"
   ]
  },
  {
   "cell_type": "code",
   "execution_count": null,
   "metadata": {},
   "outputs": [],
   "source": [
    "class Circle(BaseFigure):\n",
    "    n_dots = float('inf')\n",
    "\n",
    "    def __init__(self, r_):\n",
    "        self.r = r_\n",
    "        self.validate()\n",
    "        super().__init__()\n",
    "\n",
    "    def validate(self):\n",
    "        return self.r\n",
    "\n",
    "    def area(self):\n",
    "        return 3.14 * self.r ** 2"
   ]
  },
  {
   "cell_type": "code",
   "execution_count": 6,
   "metadata": {},
   "outputs": [
    {
     "name": "stdout",
     "output_type": "stream",
     "text": [
      "[5, 7, 9]\n"
     ]
    }
   ],
   "source": [
    "class Vector():\n",
    "    def __init__(self, coords):\n",
    "        self.coords = coords\n",
    "\n",
    "    def __add__(self, other):\n",
    "        if len(self.coords) != len(other.coords):\n",
    "            raise ValueError(f'left and right lengths differ: {len(self.coords)} != {len(other.coords)}')\n",
    "        return Vector([x + y for x, y in zip(self.coords, other.coords)])\n",
    "    \n",
    "    def __str__(self):\n",
    "        return f'[{\", \".join(map(str, self.coords))}]'\n",
    "    \n",
    "    def __mul__(self, other):\n",
    "        if isinstance(other, Vector):\n",
    "            if len(self.coords) != len(other.coords):\n",
    "                raise ValueError(f'left and right lengths differ: {len(self.coords)} != {len(other.coords)}')\n",
    "            return sum(x * y for x, y in zip(self.coords, other.coords))\n",
    "        return Vector([x * other for x in self.coords])\n",
    "    \n",
    "    def __eq__(self, other):\n",
    "        return self.coords == other.coords\n",
    "    \n",
    "    def __abs__(self):\n",
    "        return sum(x ** 2 for x in self.coords) ** 0.5"
   ]
  },
  {
   "cell_type": "code",
   "execution_count": 3,
   "metadata": {},
   "outputs": [],
   "source": [
    "class ParsesCookies:\n",
    "    def __init__(self, request):\n",
    "        self.request = request\n",
    "\n",
    "    def cookies(self):\n",
    "        return self.request.get('cookies', {})\n",
    "    \n",
    "    def is_authed(self):\n",
    "        return 'auth_key' in self.cookies()\n",
    "    \n",
    "\n",
    "class ParsesBody:\n",
    "    def __init__(self, request):\n",
    "        self.request = request\n",
    "\n",
    "    def body(self):\n",
    "        return self.request.get('body', '')\n",
    "    \n",
    "\n",
    "class ParsesHeaders:\n",
    "    def __init__(self, request):\n",
    "        self.request = request\n",
    "\n",
    "    def headers(self):\n",
    "        return self.request.get('headers', {})\n",
    "    \n",
    "    def need_json(self):\n",
    "        return self.headers().get('content-type') == 'application/json'\n",
    "    \n",
    "\n",
    "class Handler(ParsesCookies, ParsesBody, ParsesHeaders):\n",
    "    def __init__(self, request):\n",
    "        ParsesCookies.__init__(self, request)\n",
    "        ParsesBody.__init__(self, request)\n",
    "        ParsesHeaders.__init__(self, request)"
   ]
  },
  {
   "cell_type": "code",
   "execution_count": 4,
   "metadata": {},
   "outputs": [],
   "source": [
    "import json\n",
    "\n",
    "class JsonHandler(ParsesBody, ParsesHeaders):\n",
    "    def __init__(self, request):\n",
    "        self.request = request\n",
    "\n",
    "    def process(self):\n",
    "        \n",
    "        if self.need_json():\n",
    "            try:\n",
    "                body_json = json.loads(self.body())\n",
    "                return len(body_json.keys())\n",
    "            except:\n",
    "                return None\n",
    "        else:\n",
    "            return None"
   ]
  },
  {
   "cell_type": "code",
   "execution_count": 7,
   "metadata": {},
   "outputs": [
    {
     "name": "stdout",
     "output_type": "stream",
     "text": [
      "2\n"
     ]
    }
   ],
   "source": [
    "# Пример использования\n",
    "r = {'body': '{\"a\": 123, \"b\": 1234}',\n",
    "     'headers': {'content-type': 'application/json'}\n",
    "    }\n",
    "print(JsonHandler(r).process())"
   ]
  },
  {
   "cell_type": "code",
   "execution_count": 8,
   "metadata": {},
   "outputs": [],
   "source": [
    "class SecureTextHandler(ParsesBody, ParsesCookies):\n",
    "    def __init__(self, request):\n",
    "        self.request = request\n",
    "\n",
    "    def process(self):\n",
    "        if not self.is_authed():\n",
    "            return None\n",
    "        body = self.body()\n",
    "        return len(body)"
   ]
  },
  {
   "cell_type": "code",
   "execution_count": 9,
   "metadata": {},
   "outputs": [
    {
     "name": "stdout",
     "output_type": "stream",
     "text": [
      "5\n",
      "None\n"
     ]
    }
   ],
   "source": [
    "# Примеры\n",
    "r = {'cookies': {'auth_key': '123'},\n",
    "     'body': 'hello'\n",
    "    }\n",
    "print(SecureTextHandler(r).process())\n",
    "# 5\n",
    "\n",
    "r = {'cookies': {},\n",
    "     'body': 'hello'\n",
    "    }\n",
    "print(SecureTextHandler(r).process())\n",
    "# None"
   ]
  }
 ],
 "metadata": {
  "kernelspec": {
   "display_name": "Python 3",
   "language": "python",
   "name": "python3"
  },
  "language_info": {
   "codemirror_mode": {
    "name": "ipython",
    "version": 3
   },
   "file_extension": ".py",
   "mimetype": "text/x-python",
   "name": "python",
   "nbconvert_exporter": "python",
   "pygments_lexer": "ipython3",
   "version": "3.9.10"
  }
 },
 "nbformat": 4,
 "nbformat_minor": 2
}
