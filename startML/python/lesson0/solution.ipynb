{
 "cells": [
  {
   "cell_type": "code",
   "execution_count": 16,
   "metadata": {},
   "outputs": [],
   "source": [
    "tasks = {}\n",
    "\n",
    "tasks[0] = ['Покормить кота', 'Покормить кота']\n",
    "tasks[1] = ['Полить цветы', 'Забрать посылку']\n",
    "tasks[2] = ['Почитать книгу по программированию']\n",
    "tasks[3] = ['Ответить на письмо двоюродной тети']"
   ]
  },
  {
   "cell_type": "code",
   "execution_count": null,
   "metadata": {
    "is_executing": true
   },
   "outputs": [],
   "source": [
    "if tasks[0]:\n",
    "    print('есть срочные дела')\n",
    "else:\n",
    "    print('можно отдохнуть')"
   ]
  },
  {
   "cell_type": "code",
   "execution_count": null,
   "metadata": {
    "is_executing": true
   },
   "outputs": [],
   "source": [
    "answer = []\n",
    "\n",
    "for priority in tasks:\n",
    "    flag = 0\n",
    "    for task in tasks[priority]:\n",
    "        if len(answer) == 2:\n",
    "            flag = 1\n",
    "            break\n",
    "        if 'кот' in task:\n",
    "            answer.append(task)\n",
    "    if flag:\n",
    "        break\n",
    "\n",
    "print(answer)"
   ]
  },
  {
   "cell_type": "code",
   "execution_count": null,
   "metadata": {
    "is_executing": true
   },
   "outputs": [],
   "source": [
    "new_tasks = {}\n",
    "\n",
    "for priority in tasks:\n",
    "    new_tasks[priority] = list(set(tasks[priority]))\n",
    "\n",
    "print(new_tasks)"
   ]
  },
  {
   "cell_type": "code",
   "outputs": [],
   "source": [],
   "metadata": {
    "collapsed": false
   }
  }
 ],
 "metadata": {
  "kernelspec": {
   "display_name": "Python 3",
   "language": "python",
   "name": "python3"
  },
  "language_info": {
   "codemirror_mode": {
    "name": "ipython",
    "version": 3
   },
   "file_extension": ".py",
   "mimetype": "text/x-python",
   "name": "python",
   "nbconvert_exporter": "python",
   "pygments_lexer": "ipython3",
   "version": "3.9.10"
  }
 },
 "nbformat": 4,
 "nbformat_minor": 2
}
