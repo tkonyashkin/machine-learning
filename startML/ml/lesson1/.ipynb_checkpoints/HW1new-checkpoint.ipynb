{
 "cells": [
  {
   "cell_type": "code",
   "execution_count": 15,
   "id": "3c99f6ca",
   "metadata": {},
   "outputs": [],
   "source": [
    "import pandas as pd\n",
    "import numpy as np\n",
    "import matplotlib.pyplot as plt\n",
    "\n",
    "taxiDB = pd.read_csv('taxi_dataset.csv')"
   ]
  },
  {
   "cell_type": "code",
   "execution_count": null,
   "id": "7336783d",
   "metadata": {},
   "outputs": [],
   "source": [
    "taxiDB.head(5)"
   ]
  },
  {
   "cell_type": "markdown",
   "id": "a31a0058",
   "metadata": {},
   "source": [
    "<dl>\n",
    "<dt> Описание колонок:\n",
    "<dd>id - ID поездки </dd>\n",
    "<dd>vendor_id - ID компании, осуществляющей перевозку </dd>\n",
    "<dd>pickup_datetime - Таймкод начала поездки</dd>\n",
    "<dd>dropoff_datetime - Таймкод конца поездки </dd>\n",
    "<dd>passenger_count - Количество пассажиров </dd>\n",
    "<dd>pickup_longitude - Долгота точки, в которой началась поездка </dd>\n",
    "<dd>pickup_latitude - Широта точки, в которой началась поездка </dd>\n",
    "<dd>dropoff_longitude - Долгота точки, в которой закончилась поездка </dd>\n",
    "<dd>dropoff_latitude - Широта точки, в которой закончилась поездка </dd>\n",
    "<dd>store_and_fwd_flag - Yes/No: Была ли информация сохранена в памяти транспортного средства из-за потери соединения с сервером </dd>\n",
    "</dl>\n",
    "\n",
    "**Наша целевая переменная - длительность поездки.**\n",
    "\n",
    "Зная тайм-коды времени начала и конца поездок, можем вычислить обозначенный таргет\n",
    "Договоримся, что производим вычисления в секундах.\n",
    "Советуем обратить внимание на  <a href=\"https://pandas.pydata.org/docs/reference/api/pandas.to_datetime.html\">данный способ</a> для перевода строки в datetime тип, с которым удобно работать при вычленении дней/часов...\n",
    "\n",
    "И <a href=\"https://pandas.pydata.org/docs/reference/api/pandas.Series.dt.total_seconds.html\"> этот </a>для перевода разницы datetime объектов в секунды\n",
    "\n",
    "Положите таргетную переменнул в столбик с названием **trip_duration**"
   ]
  },
  {
   "cell_type": "code",
   "execution_count": 1,
   "id": "27571b9f",
   "metadata": {},
   "outputs": [],
   "source": [
    "### Your code is here"
   ]
  },
  {
   "cell_type": "markdown",
   "id": "50ff2f38",
   "metadata": {},
   "source": [
    "Предсказывая таргет для новых объектов в будущем, мы не будем заранее знать **dropoff_datetime**.\n",
    "\n",
    "Удалим колонку из датасета."
   ]
  },
  {
   "cell_type": "code",
   "execution_count": 2,
   "id": "656756ca",
   "metadata": {},
   "outputs": [],
   "source": [
    "### Your code is here"
   ]
  },
  {
   "cell_type": "markdown",
   "id": "a87265dd",
   "metadata": {},
   "source": [
    "\n",
    "**В будущем будем строить модель. На каких признаках? Рассмотрим имеющиеся вещественные/бинарные и обсудим, какие простейшие признаки можно вытащить из остальных колонок.**\n",
    "\n",
    "Во-первых, имеем бинарный признак vendor_id, принимающий значения {1, 2}. Переведем его во множество {0, 1}, так как это просто привычнее."
   ]
  },
  {
   "cell_type": "code",
   "execution_count": null,
   "id": "b29ec3c0",
   "metadata": {},
   "outputs": [],
   "source": [
    "taxiDB['vendor_id'] = taxiDB['vendor_id'] - 1\n",
    "taxiDB.head()"
   ]
  },
  {
   "cell_type": "markdown",
   "id": "b96e8e6d",
   "metadata": {},
   "source": [
    "Найдите еще один бинарный признак в данном датасете. Закодируйте и его тоже во множество {0, 1}."
   ]
  },
  {
   "cell_type": "code",
   "execution_count": null,
   "id": "b5d30937",
   "metadata": {},
   "outputs": [],
   "source": [
    "### Your code is here"
   ]
  },
  {
   "cell_type": "code",
   "execution_count": null,
   "id": "e9a0baf9",
   "metadata": {},
   "outputs": [],
   "source": [
    "###Сохраните первые 10 строк получившегося на этом этапе датафрейма в csv файл с разделителем ';'. Прикрепите в качестве ответа к заданию 6."
   ]
  },
  {
   "cell_type": "markdown",
   "id": "3aec9d4a",
   "metadata": {},
   "source": [
    "Во-вторых, можем использовать долготу и широту точек старта/завершения поездки, чтобы примерно оценить расстояние между 2 точками.\n",
    "\n",
    "Сами по себе они, как самостоятельные вещественные признаки, вряд ли способны хорошо объяснять длительность поездки.\n",
    "\n",
    "Базовая идея состоит в том, чтобы посчитать разность долгот и широт соответственно, то есть:\n",
    "\n",
    "$$\n",
    "\\delta_{long} = \\text{dropoff_longitude} - \\text{pickup_longitude}\n",
    "$$\n",
    "\n",
    "$$\n",
    "\\delta_{lat} =  \\text{dropoff_latitude} - \\text{pickup_latitude}\n",
    "$$\n",
    "\n",
    "А потом вычислить географическое расстояние между 2 точками по теореме Пифагора:\n",
    "\n",
    "$$\n",
    "R = \\sqrt{\\delta^2_{long} + \\delta^2_{lat}}\n",
    "$$\n",
    "\n",
    "Мы реализуем данную задумку и вычислим такую вещественную колонку **R**, что, в целом, является хорошим тоном при работе с координатами точек.\n",
    "\n",
    "Только для начала нужно некоторым образом перевести долготу и широту в километры, обеспечив равенство их мер измерения. Потому что, вообще говоря, *градусная мера* широт и долгот имеет неодинаковую шкалу перевода в километры. Так, если пропустить данную деталь, расстояние **R** будет вычислено неверно, ведь катеты тогда будут иметь разную размерность.\n",
    "\n",
    "В целом, перевод из долгот и широт в расстояние поездки позволяет нам в будущем проверить зависимость **длительности поездки от километража**, и объяснить ее будет куда проще, чем аналогичную между таргетом и изначальными признаками\n",
    "\n",
    "<a href=\"https://www.datafix.com.au/BASHing/2018-11-07.html\"> Маленькая статья про перевод разницы градусов долгот/широт в километры</a>"
   ]
  },
  {
   "cell_type": "markdown",
   "id": "313bbbc0",
   "metadata": {},
   "source": [
    "**Начнем переводить каждую долготу в некоторое относительно километровое выражение**\n",
    "\n",
    "Соберем список из всех широт (как точек старта, так и конца)."
   ]
  },
  {
   "cell_type": "code",
   "execution_count": 22,
   "id": "3ff635f7",
   "metadata": {},
   "outputs": [],
   "source": [
    "allLat  = list(taxiDB['pickup_latitude']) + list(taxiDB['dropoff_latitude'])"
   ]
  },
  {
   "cell_type": "markdown",
   "id": "96faba9a",
   "metadata": {},
   "source": [
    "Посчитаем медиану:\n",
    "\n",
    "Это некоторое \"Центральное значение\" в отсортированном массиве всех значений.\n",
    "\n",
    "Иными словами, такое число, меньше и больше которого примерно равное количество объектов."
   ]
  },
  {
   "cell_type": "code",
   "execution_count": 23,
   "id": "d24f699e",
   "metadata": {},
   "outputs": [],
   "source": [
    "medianLat  = sorted(allLat)[int(len(allLat)/2)]"
   ]
  },
  {
   "cell_type": "markdown",
   "id": "3599af1c",
   "metadata": {},
   "source": [
    "Теперь, для из каждого значения широты вычтем медианное значение.\n",
    "\n",
    "Результат переведем в километры."
   ]
  },
  {
   "cell_type": "code",
   "execution_count": 24,
   "id": "d19a4ec8",
   "metadata": {},
   "outputs": [],
   "source": [
    "latMultiplier  = 111.32\n",
    "\n",
    "taxiDB['pickup_latitude']   = latMultiplier  * (taxiDB['pickup_latitude']   - medianLat)\n",
    "taxiDB['dropoff_latitude']   = latMultiplier  * (taxiDB['dropoff_latitude']  - medianLat)"
   ]
  },
  {
   "cell_type": "code",
   "execution_count": null,
   "id": "d1667384",
   "metadata": {},
   "outputs": [],
   "source": [
    "taxiDB.head()"
   ]
  },
  {
   "cell_type": "markdown",
   "id": "73697e8c",
   "metadata": {},
   "source": [
    "Итого, для **latitude** колонок получили следующие выражения:\n",
    "\n",
    "*На сколько примерно километров севернее или южнее (в зависимости от знака) точка находится относительно средней широты*"
   ]
  },
  {
   "cell_type": "code",
   "execution_count": 27,
   "id": "540ee4ca",
   "metadata": {},
   "outputs": [],
   "source": [
    "allLong = list(taxiDB['pickup_longitude']) + list(taxiDB['dropoff_longitude'])\n",
    "\n",
    "medianLong  = sorted(allLong)[int(len(allLong)/2)]\n",
    "\n",
    "longMultiplier = np.cos(medianLat*(np.pi/180.0)) * 111.32"
   ]
  },
  {
   "cell_type": "markdown",
   "id": "dd875f4f",
   "metadata": {},
   "source": [
    "Используя полученную медиану и множитель, на который стоит корректировать все долготы, получите корректные **longitude** признаки по аналогии."
   ]
  },
  {
   "cell_type": "code",
   "execution_count": 3,
   "id": "295a9717",
   "metadata": {},
   "outputs": [],
   "source": [
    "### Your code is here"
   ]
  },
  {
   "cell_type": "markdown",
   "id": "80ae55ef",
   "metadata": {},
   "source": [
    "Почему мы вычисляли через медианы: они позволяют нам во время вычисления расстояния преобразовать изначальные longtitude/latitude колонки в \"отдаленности точек старта/конца поездок\" от медианных точек. Кажется, что это прикольно :) Есть подозрение, что медианная для поездок точка города - это, на практике, точка скопления вечерних пробок. Нам может быть вполне важно знать, насколько далеко от такого эпицентра ужаса мы начинаем и заканчиваем поездку (насколько севернее/южнее/...) и выделить поверх этой информации дополнительные признаки.<br>\n",
    "В домашнем задании это использоваться не будет, но это ещё один пример, как можно работать с признаками."
   ]
  },
  {
   "cell_type": "markdown",
   "id": "648650a1",
   "metadata": {},
   "source": [
    "Наконец, вычислим географическое расстояние **distance_km**:"
   ]
  },
  {
   "cell_type": "code",
   "execution_count": 4,
   "id": "b12e6187",
   "metadata": {},
   "outputs": [],
   "source": [
    "### Your code is here"
   ]
  },
  {
   "cell_type": "code",
   "execution_count": null,
   "id": "28907f52",
   "metadata": {},
   "outputs": [],
   "source": [
    "taxiDB.head()"
   ]
  },
  {
   "cell_type": "markdown",
   "id": "65c80dd4",
   "metadata": {},
   "source": [
    "Уберем старые признаки!"
   ]
  },
  {
   "cell_type": "code",
   "execution_count": 31,
   "id": "63e07fb2",
   "metadata": {},
   "outputs": [],
   "source": [
    "taxiDB = taxiDB.drop(['pickup_longitude', 'dropoff_longitude',\n",
    "                      'pickup_latitude', 'dropoff_latitude'], axis=1)"
   ]
  },
  {
   "cell_type": "code",
   "execution_count": null,
   "id": "c708e28d",
   "metadata": {},
   "outputs": [],
   "source": [
    "taxiDB.head()"
   ]
  },
  {
   "cell_type": "code",
   "execution_count": 1,
   "id": "9e3f87d0",
   "metadata": {},
   "outputs": [],
   "source": [
    "### Cохраните первые 10 значений полученного промежуточного датафрейма в файл в формате csv с сепаратором ;. Отправьте полученный файл в форму ответа к заданию 7."
   ]
  },
  {
   "cell_type": "markdown",
   "id": "089034eb",
   "metadata": {},
   "source": [
    "В-третьих, обратим внимание на колонку **passenger_count**.\n",
    "\n",
    "Какие значения она может принимать?"
   ]
  },
  {
   "cell_type": "code",
   "execution_count": 1,
   "id": "bbe0f17d",
   "metadata": {},
   "outputs": [],
   "source": [
    "### Your code is here"
   ]
  },
  {
   "cell_type": "markdown",
   "id": "029908f8",
   "metadata": {},
   "source": [
    "Какой это признак, на ваш взгляд: вещественный, категориальный, порядковый? \n",
    "\n",
    "С одной стороны, можно воспринимать его как обычный вещественный признак. Ведь само по себе количество пассажиров (без дополнительной обработки) - это некоторое число, которое может принимать большое количество различных значений.\n",
    "\n",
    "С другой стороны, мы с Вами наверняка знаем, что количество пассажиров от поездки к поездке ограничено. Вряд ли если к нам придут новые данные, мы увидим числа бОльшие, чем у нас в датасете. Тогда рассуждаем следующим образом: раз множество значений признака ограничено, то он категориальный (или, в данном случае, даже порядковый! Ведь у нас могут быть какие-то логичные предположения о том, что количество пассажиров может влиять на модель машины и, соответственно, скорость ее передвижения и скорость поездки!)\n",
    "\n",
    "Какой подход выбрать лучше заранее наверняка не узнаешь. Нужны эксперименты с данными и моделями. Тем не менее, я предлагаю Вам предположить, что данный признак является категориальным, и попробовать отточить навыки кодировки таких фичей!\n",
    "\n",
    "Предлагаю Вам реализовать прием с **Mean-target encoding'ом**, как в практическом занятии. Замените колонку **passenger_count** колонкой **category_encoded**."
   ]
  },
  {
   "cell_type": "code",
   "execution_count": 2,
   "id": "6311a236",
   "metadata": {},
   "outputs": [],
   "source": [
    "### Your code is here\n"
   ]
  },
  {
   "cell_type": "code",
   "execution_count": 2,
   "id": "a70152bb",
   "metadata": {},
   "outputs": [],
   "source": [
    "###  Cохраните первые 10 значений полученного промежуточного датафрейма в файл в формате csv с сепаратором ';' Отправьте полученный файл в форму ответа задания 8."
   ]
  },
  {
   "cell_type": "markdown",
   "id": "189d3366",
   "metadata": {},
   "source": [
    "Кажется, мы достаточно близки с Вами к тому, чтобы получить в итоге табличку, полностью состояющую из чиселок и, казалось бы, осмысленных признаков!\n",
    "\n",
    "Остались две колонки: **id**, **pickup_datetime**\n",
    "\n",
    "**id** можно использовать как обычный идентификатор нашего объекта, поэтому поместите данную колонку в качестве индекса нашей таблички:"
   ]
  },
  {
   "cell_type": "code",
   "execution_count": null,
   "id": "4746777e",
   "metadata": {},
   "outputs": [],
   "source": [
    "taxiDB = taxiDB.set_index('id')"
   ]
  },
  {
   "cell_type": "code",
   "execution_count": null,
   "id": "0e54ab4a",
   "metadata": {},
   "outputs": [],
   "source": [
    "taxiDB.head()"
   ]
  },
  {
   "cell_type": "code",
   "execution_count": null,
   "id": "7b7fe7a9",
   "metadata": {},
   "outputs": [],
   "source": [
    "###Сохраните первые 10 000 значений полученного датафрейма в файл в формате csv с сепаратором ';' Отправьте полученный файл в форму задания 9."
   ]
  },
  {
   "cell_type": "code",
   "execution_count": null,
   "id": "f8f0adb6",
   "metadata": {},
   "outputs": [],
   "source": []
  }
 ],
 "metadata": {
  "kernelspec": {
   "display_name": "Python 3 (ipykernel)",
   "language": "python",
   "name": "python3"
  },
  "language_info": {
   "codemirror_mode": {
    "name": "ipython",
    "version": 3
   },
   "file_extension": ".py",
   "mimetype": "text/x-python",
   "name": "python",
   "nbconvert_exporter": "python",
   "pygments_lexer": "ipython3",
   "version": "3.11.7"
  }
 },
 "nbformat": 4,
 "nbformat_minor": 5
}
