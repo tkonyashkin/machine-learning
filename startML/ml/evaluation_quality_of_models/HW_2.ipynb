{
 "cells": [
  {
   "cell_type": "code",
   "execution_count": 2,
   "id": "c9a6fc87",
   "metadata": {
    "id": "81t4wEj-9sjI"
   },
   "outputs": [],
   "source": [
    " import pandas as pd"
   ]
  },
  {
   "cell_type": "markdown",
   "id": "e53b5b36",
   "metadata": {
    "id": "Eir77xQk9sjK"
   },
   "source": [
    "**Научимся считать метрики в pandas-табличках**\n",
    "\n",
    "Представим, что 2 добрых и очень-очень умных гнома прокрались к нам в данные, описывающие различные поездки в такси.\n",
    "Далее, для каждого объекта (и его признаков, соответственно), гномы построили модели предсказания того, какая должна была быть у данных заказов длительность исполнения. Прогнозы своих моделей они положили соответственно в колонки **prediction_1** и **prediction_2**"
   ]
  },
  {
   "cell_type": "code",
   "execution_count": 3,
   "id": "221099ba",
   "metadata": {
    "id": "cF_CAFZ89sjL"
   },
   "outputs": [],
   "source": [
    "df = pd.read_csv('taxi_dataset_with_predictions.csv', index_col=0)"
   ]
  },
  {
   "cell_type": "code",
   "execution_count": 4,
   "id": "e2632094",
   "metadata": {
    "id": "UlT5Cex79sjN"
   },
   "outputs": [
    {
     "data": {
      "text/html": [
       "<div>\n",
       "<style scoped>\n",
       "    .dataframe tbody tr th:only-of-type {\n",
       "        vertical-align: middle;\n",
       "    }\n",
       "\n",
       "    .dataframe tbody tr th {\n",
       "        vertical-align: top;\n",
       "    }\n",
       "\n",
       "    .dataframe thead th {\n",
       "        text-align: right;\n",
       "    }\n",
       "</style>\n",
       "<table border=\"1\" class=\"dataframe\">\n",
       "  <thead>\n",
       "    <tr style=\"text-align: right;\">\n",
       "      <th></th>\n",
       "      <th>vendor_id</th>\n",
       "      <th>pickup_datetime</th>\n",
       "      <th>passenger_count</th>\n",
       "      <th>store_and_fwd_flag</th>\n",
       "      <th>trip_duration</th>\n",
       "      <th>distance_km</th>\n",
       "      <th>prediction_1</th>\n",
       "      <th>prediction_2</th>\n",
       "    </tr>\n",
       "    <tr>\n",
       "      <th>id</th>\n",
       "      <th></th>\n",
       "      <th></th>\n",
       "      <th></th>\n",
       "      <th></th>\n",
       "      <th></th>\n",
       "      <th></th>\n",
       "      <th></th>\n",
       "      <th></th>\n",
       "    </tr>\n",
       "  </thead>\n",
       "  <tbody>\n",
       "    <tr>\n",
       "      <th>id2875421</th>\n",
       "      <td>1</td>\n",
       "      <td>2016-03-14 17:24:55</td>\n",
       "      <td>930.399753</td>\n",
       "      <td>0</td>\n",
       "      <td>455.0</td>\n",
       "      <td>1.500479</td>\n",
       "      <td>578.156451</td>\n",
       "      <td>355.270710</td>\n",
       "    </tr>\n",
       "    <tr>\n",
       "      <th>id2377394</th>\n",
       "      <td>0</td>\n",
       "      <td>2016-06-12 00:43:35</td>\n",
       "      <td>930.399753</td>\n",
       "      <td>0</td>\n",
       "      <td>663.0</td>\n",
       "      <td>1.807119</td>\n",
       "      <td>962.657188</td>\n",
       "      <td>674.295781</td>\n",
       "    </tr>\n",
       "    <tr>\n",
       "      <th>id3858529</th>\n",
       "      <td>1</td>\n",
       "      <td>2016-01-19 11:35:24</td>\n",
       "      <td>930.399753</td>\n",
       "      <td>0</td>\n",
       "      <td>2124.0</td>\n",
       "      <td>6.392080</td>\n",
       "      <td>2546.180515</td>\n",
       "      <td>2422.132431</td>\n",
       "    </tr>\n",
       "    <tr>\n",
       "      <th>id3504673</th>\n",
       "      <td>1</td>\n",
       "      <td>2016-04-06 19:32:31</td>\n",
       "      <td>930.399753</td>\n",
       "      <td>0</td>\n",
       "      <td>429.0</td>\n",
       "      <td>1.487155</td>\n",
       "      <td>737.926214</td>\n",
       "      <td>795.992362</td>\n",
       "    </tr>\n",
       "    <tr>\n",
       "      <th>id2181028</th>\n",
       "      <td>1</td>\n",
       "      <td>2016-03-26 13:30:55</td>\n",
       "      <td>930.399753</td>\n",
       "      <td>0</td>\n",
       "      <td>435.0</td>\n",
       "      <td>1.189925</td>\n",
       "      <td>666.070794</td>\n",
       "      <td>-4.158492</td>\n",
       "    </tr>\n",
       "  </tbody>\n",
       "</table>\n",
       "</div>"
      ],
      "text/plain": [
       "           vendor_id      pickup_datetime  passenger_count  \\\n",
       "id                                                           \n",
       "id2875421          1  2016-03-14 17:24:55       930.399753   \n",
       "id2377394          0  2016-06-12 00:43:35       930.399753   \n",
       "id3858529          1  2016-01-19 11:35:24       930.399753   \n",
       "id3504673          1  2016-04-06 19:32:31       930.399753   \n",
       "id2181028          1  2016-03-26 13:30:55       930.399753   \n",
       "\n",
       "           store_and_fwd_flag  trip_duration  distance_km  prediction_1  \\\n",
       "id                                                                        \n",
       "id2875421                   0          455.0     1.500479    578.156451   \n",
       "id2377394                   0          663.0     1.807119    962.657188   \n",
       "id3858529                   0         2124.0     6.392080   2546.180515   \n",
       "id3504673                   0          429.0     1.487155    737.926214   \n",
       "id2181028                   0          435.0     1.189925    666.070794   \n",
       "\n",
       "           prediction_2  \n",
       "id                       \n",
       "id2875421    355.270710  \n",
       "id2377394    674.295781  \n",
       "id3858529   2422.132431  \n",
       "id3504673    795.992362  \n",
       "id2181028     -4.158492  "
      ]
     },
     "execution_count": 4,
     "metadata": {},
     "output_type": "execute_result"
    }
   ],
   "source": [
    "df.head()"
   ]
  },
  {
   "cell_type": "markdown",
   "id": "09a6b68e",
   "metadata": {
    "id": "hJJOnoaw9sjO"
   },
   "source": [
    "Давайте попробуем оценить, насколько и вправду гномы оказались умными и осведомленными в области построения различных моделей машинного обучения, и найдем, насколько сильно их модели ошибаются на наших данных!"
   ]
  },
  {
   "cell_type": "markdown",
   "id": "be585433",
   "metadata": {
    "id": "ZSeEOdpP9sjO"
   },
   "source": [
    "В начале посчитайте **MSE** модели. Для этого нужно посчитать квадратичное отклонение на каждом объекте, а потом просто усредниться! Полезно иметь формулу перед глазами.\n",
    "\n",
    "$$\n",
    "MSE = \\frac{1}{n} \\sum_i^n (a(x_i)-y_i)^2\n",
    "$$\n",
    "\n",
    "Положите результаты в переменные *error_1* и *error_2* соответственно."
   ]
  },
  {
   "cell_type": "code",
   "execution_count": 6,
   "id": "d2aee774",
   "metadata": {
    "id": "ozhTh4ls9sjQ"
   },
   "outputs": [],
   "source": [
    "error_1 = ((df['trip_duration'] - df['prediction_1'])**2).mean()\n",
    "error_2 = ((df['trip_duration'] - df['prediction_2'])**2).mean()"
   ]
  },
  {
   "cell_type": "code",
   "execution_count": 7,
   "id": "ffd0a04c",
   "metadata": {
    "id": "_JbxQKWp9sjQ"
   },
   "outputs": [
    {
     "name": "stdout",
     "output_type": "stream",
     "text": [
      "MSE первой модели равно: 99994\n",
      "MSE второй модели равно: 124936\n"
     ]
    }
   ],
   "source": [
    "###Распечатайте значения MSE для обеих моделей. Используйте эти значения для ответа на задание шага 5.\n",
    "print(f\"MSE первой модели равно: {int(error_1)}\")\n",
    "print(f\"MSE второй модели равно: {int(error_2)}\")"
   ]
  },
  {
   "cell_type": "markdown",
   "id": "497c30d7",
   "metadata": {
    "id": "_AuLIFkJ9sjQ"
   },
   "source": [
    "Видно, что у MSE достаточно большой порядок. Как мы и говорили, глазам куда будет приятнее, если мы будем считать **RMSE**:\n",
    "\n",
    "$$\n",
    "RMSE = \\sqrt{MSE} = \\sqrt{\\frac{1}{n} \\sum_i^n (a(x_i)-y_i)^2}\n",
    "$$"
   ]
  },
  {
   "cell_type": "code",
   "execution_count": 8,
   "id": "9e6dc3ad",
   "metadata": {
    "id": "2VsDSCtz9sjS"
   },
   "outputs": [],
   "source": [
    "error_1 = (((df['trip_duration'] - df['prediction_1'])**2).mean())**(1/2)\n",
    "error_2 = (((df['trip_duration'] - df['prediction_2'])**2).mean())**(1/2)"
   ]
  },
  {
   "cell_type": "code",
   "execution_count": 9,
   "id": "137613b8",
   "metadata": {
    "id": "uefqnRqk9sjS"
   },
   "outputs": [
    {
     "name": "stdout",
     "output_type": "stream",
     "text": [
      "RMSE первой модели равно: 316\n",
      "RMSE второй модели равно: 353\n"
     ]
    }
   ],
   "source": [
    "###Распечатайте значения RMSE для обеих моделей. Используйте эти значения для ответа на задание шага 6.\n",
    "\n",
    "print(f\"RMSE первой модели равно: {int(error_1)}\")\n",
    "print(f\"RMSE второй модели равно: {int(error_2)}\")"
   ]
  },
  {
   "cell_type": "markdown",
   "id": "7af7bb5b",
   "metadata": {
    "id": "_4jKIu679sjT"
   },
   "source": [
    "Что можете сказать про модели первого и второго гнома? Чья оказалась лучше с точки зрения **MSE**? Давайте теперь замерим значения средней абсолютной ошибки, то есть **MAE**:\n",
    "\n",
    "$$\n",
    "MAE = \\frac{1}{n} \\sum_i^n |a(x_i)-y_i|\n",
    "$$\n",
    "\n",
    "Рассчитайте MAE для обеих моделей."
   ]
  },
  {
   "cell_type": "code",
   "execution_count": 10,
   "id": "aafe1aec",
   "metadata": {
    "id": "Y8smKMFb9sjU"
   },
   "outputs": [],
   "source": [
    "absolute_error_1 = (abs(df['trip_duration'] - df['prediction_1'])).mean()\n",
    "absolute_error_2 = (abs(df['trip_duration'] - df['prediction_2'])).mean()"
   ]
  },
  {
   "cell_type": "code",
   "execution_count": 11,
   "id": "ab903947",
   "metadata": {
    "id": "JVmfwcBR9sjU"
   },
   "outputs": [
    {
     "name": "stdout",
     "output_type": "stream",
     "text": [
      "MAE первой модели равно: 300\n",
      "MAE второй модели равно: 281\n"
     ]
    }
   ],
   "source": [
    "###Распечатайте значения MAE для обеих моделей. Используйте эти значения для ответа на задание шага 7.\n",
    "print(f\"MAE первой модели равно: {int(absolute_error_1)}\")\n",
    "print(f\"MAE второй модели равно: {int(absolute_error_2)}\")"
   ]
  },
  {
   "cell_type": "markdown",
   "id": "93fe343d",
   "metadata": {
    "id": "4cT9-FyD9sjV"
   },
   "source": [
    "Если бы Вас попросили выбрать лучшую модель среди предложенных, на какой Вы бы остановились? Если брать за финальную метрику **MAE**, то поменяли бы Вы решение?\n",
    "\n",
    "Конечно! Мы наблюдаем ту самую ситуацию, когда, имея 2 разные модели с разными предсказаниями, финальный выбор однозначно сделать нельзя, например, сказав *\"Первая модель в среднем и в общем лучше второй!\"*. **Нет!** Все зависит от формы ошибки, которую мы выбираем. Иными словами, от вида той самой функции, которая наказывает наши модели и замеряет качество их прогнозов.\n",
    "\n",
    "Ситуация, когда **MAE** и **MSE**, выбирая между 2-х,  указывают на разные модели, знакома нам еще из лекции. \n",
    "\n",
    "Такое может происходить, когда в одной из моделей ошибка, в среднем, независимо от порядка чисел, чуть-чуть лучше, чем во второй. Но при этом если первая модель и ошибается, то куда суровее второй. \n",
    "\n",
    "Представьте: Петя и Миша играют в дартс. Петя в 9/10 случаев попадает в яблочко, но каждый 10-ый раз кидает дротик в потолок. Миша же, хоть и не так часто забрасывает в центр (всего 6/10), но при этом, оставшиеся 4 попытки реализует не совсем фатально: попадает всего-лишь немного дальше яблочка. \n",
    "\n",
    "В таком выдуманном сценарии Петя будет лучше с точки зрения **MAE**, а Миша - с точки зрения **MSE**, так как не допускает фатальных ошибок, хоть и в среднем набирает меньше очков. \n",
    "\n",
    "Давайте убедимся в том, что фатальных ошибок у второй модели больше. \n",
    "\n",
    "Посчитайте, в скольки случаях предсказания отклоняются от ответа более, чем на **500**, для первой и второй моделей!\n",
    "\n",
    "Назовите переменные *counter_1* и *counter_2*"
   ]
  },
  {
   "cell_type": "code",
   "execution_count": 24,
   "id": "bfe5f31c",
   "metadata": {
    "id": "wOwMclmm9sjV"
   },
   "outputs": [],
   "source": [
    "counter_1 = (abs(df['trip_duration'] - df['prediction_1']) >= 500).sum()\n",
    "counter_2 = (abs(df['trip_duration'] - df['prediction_2']) >= 500).sum()"
   ]
  },
  {
   "cell_type": "code",
   "execution_count": 25,
   "id": "944a49a5",
   "metadata": {
    "id": "D9Q7WLOO9sjV"
   },
   "outputs": [
    {
     "name": "stdout",
     "output_type": "stream",
     "text": [
      "Количество отклонений >= 500 от верного ответа для первой модели равно: 33061\n",
      "Количество отклонений >= 500 от верного ответа для второй модели равно: 228789\n"
     ]
    }
   ],
   "source": [
    "###Распечатайте значения для обеих моделей. Используйте эти значения для ответа на задание шага 8.\n",
    "print(f\"Количество отклонений >= 500 от верного ответа для первой модели равно: {counter_1}\")\n",
    "print(f\"Количество отклонений >= 500 от верного ответа для второй модели равно: {counter_2}\")"
   ]
  },
  {
   "cell_type": "markdown",
   "id": "1d12d5e4",
   "metadata": {
    "id": "hn1-bXxK9sjV"
   },
   "source": [
    "**Несимметричные метрики**\n",
    "\n",
    "Зачастую, чтобы выбрать среди всего многообразия моделей, мы можем использовать несимметричные метрики. \n",
    "\n",
    "**MSE** и **MAE** относятся к симметричным. Они одинаково наказывают модель как за перепредсказание, так и за недопредсказание. Ошибки *+2* и *-2* переводятся **MSE** и **MAE** в одинаковую меру: **4** в первом случае и **2** во втором.\n",
    "\n",
    "В действительности же, можно придумать целый ряд задач, когда лучше выбирать несимметричную метрику.\n",
    "\n",
    "Представьте, что мы - дистрибьютор инсулина, и нам нужно построить модель, которая оптимизирует поставки. В таком случае кажется, что поставить лекарства на 2 единицы больше и на 2 единицы меньше - совершенно разные сценарии и разная интерпретация катастрофичности ошибки. \n",
    "\n",
    "В первом случае мы можем потерять немного прибыли, а во втором - лишить пациента жизненно важного лекарства. Поэтому хотелось бы научиться еще и по-разному оценивать *недо- и перепредсказания*. Для этого и используют несимметричные метрики! Одну из них предлагаю Вам посчитать ниже."
   ]
  },
  {
   "cell_type": "markdown",
   "id": "c2ed10de",
   "metadata": {
    "id": "q5y4RARv9sjW"
   },
   "source": [
    "Рассчитайте **RMSLE**. Придумайте, как проверить характер несимметричности данной метрики: за что она наказывает больше - за перепредсказания или за недопредсказания? Это нужно будет в тестовом теоретическом задании.\n",
    "\n",
    "$$\n",
    "\\text{RMSLE}(X, y, a) = \\sqrt{\\frac{1}{\\ell}\\sum_{i=1}^{\\ell} \\big(\\log{(y_i + 1)} - \\log{(a(x_i) + 1)}\\big)^2}\n",
    "$$\n",
    "\n",
    "Для взятия натурального логарифма используйте библиотеку **math**\n",
    "\n",
    "P.S. Очевидно, что для некоторых отрицательных предсказаний, формула не будет работать, так как логарифм от отрицательных значений взять нельзя. Поэтому давайте подкорректируем наши прогнозы: все отрицательные числа переведем в нули (лучше уж в нашей задаче предсказать *ноль секунд*, чем *минус 100 секунд*)\n",
    "\n",
    "Переменные с метриками назовите *rmsle_1*, *rmsle_2*. Округлите их до 3 знаков после точки."
   ]
  },
  {
   "cell_type": "code",
   "execution_count": 83,
   "id": "cba3f231",
   "metadata": {
    "id": "Ze18m7x69sjW"
   },
   "outputs": [],
   "source": [
    "df_positive = df.copy()\n",
    "df_positive['prediction_1'] = df_positive['prediction_1'].apply(lambda x: 0 if x < 0 else x)\n",
    "df_positive['prediction_2'] = df_positive['prediction_2'].apply(lambda x: 0 if x < 0 else x)"
   ]
  },
  {
   "cell_type": "code",
   "execution_count": 55,
   "id": "596c4417",
   "metadata": {},
   "outputs": [
    {
     "data": {
      "text/plain": [
       "0"
      ]
     },
     "execution_count": 55,
     "metadata": {},
     "output_type": "execute_result"
    }
   ],
   "source": [
    "df_positive['trip_duration'][df_positive['trip_duration'] < 0].count()"
   ]
  },
  {
   "cell_type": "code",
   "execution_count": 60,
   "id": "328ae559",
   "metadata": {},
   "outputs": [
    {
     "data": {
      "text/plain": [
       "0"
      ]
     },
     "execution_count": 60,
     "metadata": {},
     "output_type": "execute_result"
    }
   ],
   "source": [
    "df_positive['prediction_1'][df_positive['prediction_1'] < 0].count()"
   ]
  },
  {
   "cell_type": "code",
   "execution_count": 61,
   "id": "0e181bc6",
   "metadata": {},
   "outputs": [
    {
     "data": {
      "text/plain": [
       "0"
      ]
     },
     "execution_count": 61,
     "metadata": {},
     "output_type": "execute_result"
    }
   ],
   "source": [
    "df_positive['prediction_2'][df_positive['prediction_2'] < 0].count()"
   ]
  },
  {
   "cell_type": "code",
   "execution_count": 84,
   "id": "a60c00e6",
   "metadata": {
    "id": "14Z6JTog9sjX"
   },
   "outputs": [],
   "source": [
    "from math import log\n",
    "rmsle_1 = (((((df_positive['prediction_1'] + 1).apply(log) - (df_positive['trip_duration'] + 1).apply(log))**2).mean())**0.5).round(3)\n",
    "rmsle_2 = (((((df_positive['prediction_2'] + 1).apply(log) - (df_positive['trip_duration'] + 1).apply(log))**2).mean())**0.5).round(3)"
   ]
  },
  {
   "cell_type": "code",
   "execution_count": 85,
   "id": "b26a0a43",
   "metadata": {
    "id": "A_IA-u2d9sjX"
   },
   "outputs": [
    {
     "name": "stdout",
     "output_type": "stream",
     "text": [
      "RMSLE первой модели равно: 0.554\n",
      "RMSLE второй модели равно: 1.556\n"
     ]
    }
   ],
   "source": [
    "###Распечатайте значения для обеих моделей. Используйте эти значения для ответа на задание шага 9.\n",
    "print(f\"RMSLE первой модели равно: {rmsle_1}\")\n",
    "print(f\"RMSLE второй модели равно: {rmsle_2}\")"
   ]
  },
  {
   "cell_type": "markdown",
   "id": "f8c017fc",
   "metadata": {
    "id": "AlimEbB_9sjX"
   },
   "source": [
    "Посчитайте, для какого количества объектов первая модель сделала перепредсказания и недопредсказания\n",
    "\n",
    "Аналогичный расчет проведите для первой модели и недопредсказания.\n",
    "\n",
    "P.S. оставьте колонку с предсказанием такой, какой она оказалась после замены отрицательных значений\n",
    "\n",
    "Счетчики перепредсказаний и недопредсказаний назовите *over_predicted_1* и *under_predicted_1*"
   ]
  },
  {
   "cell_type": "code",
   "execution_count": 101,
   "id": "feb113c7",
   "metadata": {
    "id": "3JJUHCQU9sjY"
   },
   "outputs": [
    {
     "data": {
      "text/plain": [
       "over_predicted_1     1456721\n",
       "under_predicted_1       1923\n",
       "Name: count, dtype: int64"
      ]
     },
     "execution_count": 101,
     "metadata": {},
     "output_type": "execute_result"
    }
   ],
   "source": [
    "((df_positive['trip_duration'] - df_positive['prediction_1']) > 0).value_counts().rename({False: 'over_predicted_1', True: 'under_predicted_1'})"
   ]
  },
  {
   "cell_type": "code",
   "execution_count": null,
   "id": "ca373f16",
   "metadata": {
    "id": "2MwyPvvM9sjY"
   },
   "outputs": [],
   "source": [
    "###Распечатайте значения для обеих моделей. Используйте эти значения для ответа на задание шага 10.\n",
    "print(f\"Предсказания первой модели оказались больше действительных в {over_predicted_1} случаях\")\n",
    "print(f\"Предсказания первой модели оказались меньше действительных в {under_predicted_1} случаях\")"
   ]
  },
  {
   "cell_type": "markdown",
   "id": "41b580e5",
   "metadata": {
    "id": "YQ6Cds9a9sjY"
   },
   "source": [
    "Аналогично для второй модели\n",
    "\n",
    "\n",
    "Счетчики перепредсказаний и недопредсказаний назовите *over_predicted_2* и *under_predicted_2*"
   ]
  },
  {
   "cell_type": "code",
   "execution_count": 102,
   "id": "8496772c",
   "metadata": {
    "id": "xphLYA3C9sjY"
   },
   "outputs": [
    {
     "data": {
      "text/plain": [
       "over_predicted_2     811778\n",
       "under_predicted_2    646866\n",
       "Name: count, dtype: int64"
      ]
     },
     "execution_count": 102,
     "metadata": {},
     "output_type": "execute_result"
    }
   ],
   "source": [
    "((df_positive['trip_duration'] - df_positive['prediction_2']) > 0).value_counts().rename({False: 'over_predicted_2', True: 'under_predicted_2'})"
   ]
  },
  {
   "cell_type": "code",
   "execution_count": null,
   "id": "ffc5da7f",
   "metadata": {
    "id": "x8ee6qxn9sjZ"
   },
   "outputs": [],
   "source": [
    "###Распечатайте значения для обеих моделей. Используйте эти значения для ответа на задание шага 11.\n",
    "print(f\"Предсказания второй модели оказались больше действительных в {over_predicted_2} случаях\")\n",
    "print(f\"Предсказания второй модели оказались меньше действительных в {under_predicted_2} случаях\")"
   ]
  },
  {
   "cell_type": "markdown",
   "id": "ef8e7089",
   "metadata": {
    "id": "QfTRmevE9sjZ"
   },
   "source": [
    "Сравните две модели заново. Согласуется ли полученный результат с подсчетом **RMSLE** ранее?"
   ]
  }
 ],
 "metadata": {
  "colab": {
   "collapsed_sections": [],
   "name": "HW_2.ipynb",
   "provenance": []
  },
  "kernelspec": {
   "display_name": "Python 3 (ipykernel)",
   "language": "python",
   "name": "python3"
  },
  "language_info": {
   "codemirror_mode": {
    "name": "ipython",
    "version": 3
   },
   "file_extension": ".py",
   "mimetype": "text/x-python",
   "name": "python",
   "nbconvert_exporter": "python",
   "pygments_lexer": "ipython3",
   "version": "3.11.7"
  }
 },
 "nbformat": 4,
 "nbformat_minor": 5
}
